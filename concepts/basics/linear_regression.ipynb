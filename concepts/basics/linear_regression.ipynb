{
 "cells": [
  {
   "cell_type": "code",
   "execution_count": 1,
   "metadata": {},
   "outputs": [],
   "source": [
    "import numpy as np\n",
    "from numpy.typing import NDArray\n",
    "\n",
    "\n",
    "# Helpful functions:\n",
    "# https://numpy.org/doc/stable/reference/generated/numpy.matmul.html\n",
    "# https://numpy.org/doc/stable/reference/generated/numpy.mean.html\n",
    "# https://numpy.org/doc/stable/reference/generated/numpy.square.html\n",
    "\n",
    "\n",
    "class Solution:\n",
    "\n",
    "    def get_model_prediction(\n",
    "        self, X: NDArray[np.float64], weights: NDArray[np.float64]\n",
    "    ) -> NDArray[np.float64]:\n",
    "        # X is an Nx3 NumPy array\n",
    "        # weights is a 3x1 NumPy array\n",
    "        # Matrix Multiplication : pred(x1,x2,x3) w1 * x1 + w2 * x2 + w3 * x3\n",
    "\n",
    "        model_prediction = np.round(np.matmul(X, weights), 5)\n",
    "        return model_prediction\n",
    "\n",
    "    def get_error(\n",
    "        self, model_prediction: NDArray[np.float64], ground_truth: NDArray[np.float64]\n",
    "    ) -> float:\n",
    "        # model_prediction is an Nx1 NumPy array\n",
    "        # ground_truth is an Nx1 NumPy array\n",
    "        # Error here is mean squared error :  sum((y_true-y_pred)**2)/len(y_true)\n",
    "\n",
    "        error = np.mean(np.square(ground_truth - model_prediction))\n",
    "        return round(error, 5)"
   ]
  }
 ],
 "metadata": {
  "kernelspec": {
   "display_name": "venv",
   "language": "python",
   "name": "python3"
  },
  "language_info": {
   "codemirror_mode": {
    "name": "ipython",
    "version": 3
   },
   "file_extension": ".py",
   "mimetype": "text/x-python",
   "name": "python",
   "nbconvert_exporter": "python",
   "pygments_lexer": "ipython3",
   "version": "3.11.10"
  }
 },
 "nbformat": 4,
 "nbformat_minor": 2
}

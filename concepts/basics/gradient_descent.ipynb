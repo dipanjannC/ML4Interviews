{
 "cells": [
  {
   "cell_type": "markdown",
   "metadata": {},
   "source": [
    "# Basic Implementation"
   ]
  },
  {
   "cell_type": "markdown",
   "metadata": {},
   "source": [
    "Why we want to take derivatives in Gradient Decent ?\n",
    "- We want to minimize the error function (error/cost/loss) \n",
    "- By taking derivatives/gradients it creates a tangential line for the function and tries to come to global minima.\n",
    "\n",
    "\n",
    "\n",
    "```\n",
    "# PsudeoCode\n",
    "\n",
    "for iterations:\n",
    "    d = calculate_derivative(gradient)\n",
    "    guess -= d * learning_rate(step at which the slope is decreasing)  \n",
    "```"
   ]
  },
  {
   "cell_type": "code",
   "execution_count": 1,
   "metadata": {},
   "outputs": [],
   "source": [
    "import numpy as np"
   ]
  },
  {
   "cell_type": "code",
   "execution_count": 5,
   "metadata": {},
   "outputs": [],
   "source": [
    "x = np.array([1,4,2,5,7,8])\n",
    "y = np.array([5,6,2,6,2,9])"
   ]
  },
  {
   "cell_type": "code",
   "execution_count": 22,
   "metadata": {},
   "outputs": [],
   "source": [
    "def mean_squared_error(y_true,y_pred):\n",
    "    # Calculating Cost or Loss\n",
    "    if len(y_true) == len(y_pred): \n",
    "        cost = np.sum((y_pred-y_true)**2)/ len(y_pred)\n",
    "        return cost\n",
    "    elif len(y_true) < len(y_pred):\n",
    "        raise ValueError(\"Length of y_pred is less than y_true.\")\n",
    "    else:\n",
    "        raise ValueError(\"Length of y_true is less than y_pred.\")"
   ]
  },
  {
   "cell_type": "code",
   "execution_count": null,
   "metadata": {},
   "outputs": [],
   "source": [
    "def gradient_descent(x,y,iterations = 1000,learning_rate =0.1, stopping_threshold = 1e-6):\n",
    "    current_weight, current_bias = 0.1,0.1\n",
    "    n = float(len(x))\n",
    "\n",
    "    costs = []\n",
    "    weights = []\n",
    "    previous_cost = None\n",
    "\n",
    "    for i in range(iterations):\n",
    "\n",
    "        # Making predictions : Predictor Function  \n",
    "        y_predicted = (current_weight * x) + current_bias\n",
    "\n",
    "        #Calculating current Cost\n",
    "        current_cost = mean_squared_error(y,y_pred=y_predicted)\n",
    "\n",
    "        # If change in cost is less or equal to stopping threshold we stop Gradient Descent.\n",
    "        current_cost_diff = abs(previous_cost-current_cost) \n",
    "        if previous_cost and current_cost_diff <= stopping_threshold:\n",
    "            break\n",
    "\n",
    "        previous_cost = current_cost\n",
    "        costs.append(previous_cost)\n",
    "\n",
    "        # TODO : Complete rest of the function\n",
    "\n",
    "\n",
    "\n"
   ]
  },
  {
   "cell_type": "code",
   "execution_count": 2,
   "metadata": {},
   "outputs": [],
   "source": [
    "current_weight, current_bias = 0.1,0.1"
   ]
  },
  {
   "cell_type": "code",
   "execution_count": null,
   "metadata": {},
   "outputs": [],
   "source": []
  }
 ],
 "metadata": {
  "kernelspec": {
   "display_name": "venv",
   "language": "python",
   "name": "python3"
  },
  "language_info": {
   "codemirror_mode": {
    "name": "ipython",
    "version": 3
   },
   "file_extension": ".py",
   "mimetype": "text/x-python",
   "name": "python",
   "nbconvert_exporter": "python",
   "pygments_lexer": "ipython3",
   "version": "3.11.10"
  }
 },
 "nbformat": 4,
 "nbformat_minor": 2
}

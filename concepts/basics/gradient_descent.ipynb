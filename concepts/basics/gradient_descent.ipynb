{
 "cells": [
  {
   "cell_type": "markdown",
   "metadata": {},
   "source": [
    "# Basic Implementation"
   ]
  },
  {
   "cell_type": "code",
   "execution_count": 1,
   "metadata": {},
   "outputs": [],
   "source": [
    "import numpy as np"
   ]
  },
  {
   "cell_type": "code",
   "execution_count": 5,
   "metadata": {},
   "outputs": [],
   "source": [
    "x = np.array([1,4,2,5,7,8])\n",
    "y = np.array([5,6,2,6,2,9])"
   ]
  },
  {
   "cell_type": "code",
   "execution_count": 22,
   "metadata": {},
   "outputs": [],
   "source": [
    "def mean_squared_error(y_true,y_pred):\n",
    "    # Calculating Cost or Loss\n",
    "    if len(y_true) == len(y_pred): \n",
    "        cost = np.sum((y_pred-y_true)**2)/ len(y_pred)\n",
    "        return cost\n",
    "    elif len(y_true) < len(y_pred):\n",
    "        raise ValueError(\"Length of y_pred is less than y_true.\")\n",
    "    else:\n",
    "        raise ValueError(\"Length of y_true is less than y_pred.\")"
   ]
  },
  {
   "cell_type": "code",
   "execution_count": 4,
   "metadata": {},
   "outputs": [
    {
     "ename": "SyntaxError",
     "evalue": "invalid syntax (4105994080.py, line 17)",
     "output_type": "error",
     "traceback": [
      "\u001b[0;36m  Cell \u001b[0;32mIn[4], line 17\u001b[0;36m\u001b[0m\n\u001b[0;31m    if previous_cost and\u001b[0m\n\u001b[0m                         ^\u001b[0m\n\u001b[0;31mSyntaxError\u001b[0m\u001b[0;31m:\u001b[0m invalid syntax\n"
     ]
    }
   ],
   "source": [
    "def gradient_descent(x,y,iterations = 1000,learning_rate =0.1, stopping_threshold = 1e-6):\n",
    "    current_weight, current_bias = 0.1,0.1\n",
    "    n = float(len(x))\n",
    "\n",
    "    costs = []\n",
    "    weights = []\n",
    "    previous_cost = None\n",
    "\n",
    "    for i in range(iterations):\n",
    "        # Making predictions\n",
    "        y_predicted = (current_weight * x) + current_bias\n",
    "\n",
    "        #Calculating current Cost\n",
    "        current_cost = mean_squared_error(y,y_pred=y_predicted)\n",
    "\n",
    "        # If change in cost is less or equal to stopping threshold we stop Gradient Descent.\n",
    "        current_cost_diff = abs(previous_cost-current_cost) \n",
    "        if previous_cost and current_cost_diff <= stopping_threshold:\n",
    "            break\n",
    "\n",
    "        previous_cost = current_cost\n",
    "        costs.append(previous_cost)\n",
    "\n",
    "        # TODO : Complete rest of the function\n",
    "\n",
    "\n",
    "\n"
   ]
  },
  {
   "cell_type": "code",
   "execution_count": 2,
   "metadata": {},
   "outputs": [],
   "source": [
    "current_weight, current_bias = 0.1,0.1"
   ]
  },
  {
   "cell_type": "code",
   "execution_count": null,
   "metadata": {},
   "outputs": [],
   "source": []
  }
 ],
 "metadata": {
  "kernelspec": {
   "display_name": "venv",
   "language": "python",
   "name": "python3"
  },
  "language_info": {
   "codemirror_mode": {
    "name": "ipython",
    "version": 3
   },
   "file_extension": ".py",
   "mimetype": "text/x-python",
   "name": "python",
   "nbconvert_exporter": "python",
   "pygments_lexer": "ipython3",
   "version": "3.11.6"
  }
 },
 "nbformat": 4,
 "nbformat_minor": 2
}
